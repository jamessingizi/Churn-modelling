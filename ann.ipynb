{
 "cells": [
  {
   "cell_type": "markdown",
   "metadata": {},
   "source": [
    "### Building ANN for churn modelling"
   ]
  },
  {
   "cell_type": "code",
   "execution_count": 9,
   "metadata": {},
   "outputs": [],
   "source": [
    "#import libraries\n",
    "import tensorflow as tf\n",
    "import pandas as pd\n",
    "import numpy as np\n",
    "from sklearn.model_selection import train_test_split\n",
    "from sklearn.preprocessing import StandardScaler"
   ]
  },
  {
   "cell_type": "markdown",
   "metadata": {},
   "source": [
    "#### Data Preprocessing"
   ]
  },
  {
   "cell_type": "code",
   "execution_count": 15,
   "metadata": {},
   "outputs": [],
   "source": [
    "#import the dataset\n",
    "dataset = pd.read_csv('Churn_Modelling.csv')\n",
    "X = dataset.iloc[:,3:-1].values\n",
    "y = dataset.iloc[:,-1].values"
   ]
  },
  {
   "cell_type": "code",
   "execution_count": 18,
   "metadata": {},
   "outputs": [],
   "source": [
    "#encoding categorical data| fill NA values\n",
    "#label encode the gender column\n",
    "from sklearn.preprocessing import LabelEncoder\n",
    "le = LabelEncoder()\n",
    "X[:,2] = le.fit_transform(X[:,2])"
   ]
  },
  {
   "cell_type": "code",
   "execution_count": 21,
   "metadata": {},
   "outputs": [],
   "source": [
    "#one hot encode the geography column\n",
    "from sklearn.compose import ColumnTransformer\n",
    "from sklearn.preprocessing import OneHotEncoder\n",
    "\n",
    "ct = ColumnTransformer(transformers=[('encoder', OneHotEncoder(), [1])], remainder='passthrough')\n",
    "X = np.array(ct.fit_transform(X))"
   ]
  },
  {
   "cell_type": "code",
   "execution_count": 23,
   "metadata": {},
   "outputs": [],
   "source": [
    "#split dataset into test and training set\n",
    "X_train, X_test, y_train, y_test = train_test_split(X,y, test_size = 0.2, random_state = 0)"
   ]
  },
  {
   "cell_type": "code",
   "execution_count": 26,
   "metadata": {},
   "outputs": [],
   "source": [
    "#feature scaling\n",
    "#sc.fit_transform get mean and standard deviation of the training set\n",
    "sc = StandardScaler()\n",
    "X_train = sc.fit_transform(X_train)\n",
    "X_test = sc.transform(X_test)"
   ]
  },
  {
   "cell_type": "code",
   "execution_count": 27,
   "metadata": {},
   "outputs": [],
   "source": [
    "#Initialize ANN\n",
    "ann = tf.keras.models.Sequential()"
   ]
  },
  {
   "cell_type": "code",
   "execution_count": 28,
   "metadata": {},
   "outputs": [],
   "source": [
    "#Add input layer and first hidden layer\n",
    "ann.add(tf.keras.layers.Dense(units=6, activation='relu'))\n",
    "\n",
    "#add second hidden layer\n",
    "ann.add(tf.keras.layers.Dense(units=6, activation='relu'))"
   ]
  },
  {
   "cell_type": "code",
   "execution_count": 29,
   "metadata": {},
   "outputs": [],
   "source": [
    "#add output layer (activation for non-binary is softmax) \n",
    "\n",
    "ann.add(tf.keras.layers.Dense(units=1, activation='sigmoid'))"
   ]
  },
  {
   "cell_type": "markdown",
   "metadata": {},
   "source": [
    "#### Training the ANN"
   ]
  },
  {
   "cell_type": "code",
   "execution_count": 30,
   "metadata": {},
   "outputs": [],
   "source": [
    "#compiling the ANN (for non-binary classification loss is categorical_crossentropy)\n",
    "\n",
    "ann.compile(optimizer='adam' ,loss='binary_crossentropy' , metrics=['accuracy'])"
   ]
  },
  {
   "cell_type": "code",
   "execution_count": 31,
   "metadata": {},
   "outputs": [
    {
     "name": "stdout",
     "output_type": "stream",
     "text": [
      "Epoch 1/100\n",
      "250/250 [==============================] - 0s 994us/step - loss: 0.5384 - accuracy: 0.7931\n",
      "Epoch 2/100\n",
      "250/250 [==============================] - 0s 862us/step - loss: 0.4639 - accuracy: 0.7960\n",
      "Epoch 3/100\n",
      "250/250 [==============================] - 0s 827us/step - loss: 0.4416 - accuracy: 0.7960\n",
      "Epoch 4/100\n",
      "250/250 [==============================] - 0s 894us/step - loss: 0.4317 - accuracy: 0.7994\n",
      "Epoch 5/100\n",
      "250/250 [==============================] - 0s 2ms/step - loss: 0.4253 - accuracy: 0.8102\n",
      "Epoch 6/100\n",
      "250/250 [==============================] - 0s 759us/step - loss: 0.4194 - accuracy: 0.8181\n",
      "Epoch 7/100\n",
      "250/250 [==============================] - 0s 720us/step - loss: 0.4141 - accuracy: 0.8224\n",
      "Epoch 8/100\n",
      "250/250 [==============================] - 0s 686us/step - loss: 0.4091 - accuracy: 0.8238\n",
      "Epoch 9/100\n",
      "250/250 [==============================] - 0s 934us/step - loss: 0.4050 - accuracy: 0.8264\n",
      "Epoch 10/100\n",
      "250/250 [==============================] - 0s 678us/step - loss: 0.4007 - accuracy: 0.8288\n",
      "Epoch 11/100\n",
      "250/250 [==============================] - 0s 732us/step - loss: 0.3969 - accuracy: 0.8284\n",
      "Epoch 12/100\n",
      "250/250 [==============================] - 0s 702us/step - loss: 0.3936 - accuracy: 0.8299\n",
      "Epoch 13/100\n",
      "250/250 [==============================] - 0s 705us/step - loss: 0.3902 - accuracy: 0.8321\n",
      "Epoch 14/100\n",
      "250/250 [==============================] - 0s 961us/step - loss: 0.3869 - accuracy: 0.8365\n",
      "Epoch 15/100\n",
      "250/250 [==============================] - 0s 717us/step - loss: 0.3835 - accuracy: 0.8405\n",
      "Epoch 16/100\n",
      "250/250 [==============================] - 0s 1ms/step - loss: 0.3800 - accuracy: 0.8440\n",
      "Epoch 17/100\n",
      "250/250 [==============================] - 0s 949us/step - loss: 0.3770 - accuracy: 0.8457\n",
      "Epoch 18/100\n",
      "250/250 [==============================] - 0s 971us/step - loss: 0.3740 - accuracy: 0.8472\n",
      "Epoch 19/100\n",
      "250/250 [==============================] - 0s 831us/step - loss: 0.3713 - accuracy: 0.8476\n",
      "Epoch 20/100\n",
      "250/250 [==============================] - 0s 751us/step - loss: 0.3689 - accuracy: 0.8487\n",
      "Epoch 21/100\n",
      "250/250 [==============================] - 0s 1ms/step - loss: 0.3666 - accuracy: 0.8503\n",
      "Epoch 22/100\n",
      "250/250 [==============================] - 0s 763us/step - loss: 0.3641 - accuracy: 0.8514\n",
      "Epoch 23/100\n",
      "250/250 [==============================] - 0s 1ms/step - loss: 0.3624 - accuracy: 0.8530\n",
      "Epoch 24/100\n",
      "250/250 [==============================] - 0s 1ms/step - loss: 0.3607 - accuracy: 0.8531\n",
      "Epoch 25/100\n",
      "250/250 [==============================] - 0s 881us/step - loss: 0.3590 - accuracy: 0.8543\n",
      "Epoch 26/100\n",
      "250/250 [==============================] - 0s 1ms/step - loss: 0.3574 - accuracy: 0.8536\n",
      "Epoch 27/100\n",
      "250/250 [==============================] - 0s 870us/step - loss: 0.3559 - accuracy: 0.8549\n",
      "Epoch 28/100\n",
      "250/250 [==============================] - 0s 1ms/step - loss: 0.3542 - accuracy: 0.8551\n",
      "Epoch 29/100\n",
      "250/250 [==============================] - 0s 728us/step - loss: 0.3528 - accuracy: 0.8569\n",
      "Epoch 30/100\n",
      "250/250 [==============================] - 0s 1ms/step - loss: 0.3519 - accuracy: 0.8576\n",
      "Epoch 31/100\n",
      "250/250 [==============================] - 0s 797us/step - loss: 0.3512 - accuracy: 0.8574\n",
      "Epoch 32/100\n",
      "250/250 [==============================] - 0s 1ms/step - loss: 0.3505 - accuracy: 0.8561\n",
      "Epoch 33/100\n",
      "250/250 [==============================] - 0s 795us/step - loss: 0.3497 - accuracy: 0.8574\n",
      "Epoch 34/100\n",
      "250/250 [==============================] - 0s 689us/step - loss: 0.3489 - accuracy: 0.8577\n",
      "Epoch 35/100\n",
      "250/250 [==============================] - 0s 746us/step - loss: 0.3476 - accuracy: 0.8581\n",
      "Epoch 36/100\n",
      "250/250 [==============================] - 0s 780us/step - loss: 0.3469 - accuracy: 0.8586\n",
      "Epoch 37/100\n",
      "250/250 [==============================] - 0s 962us/step - loss: 0.3467 - accuracy: 0.8574\n",
      "Epoch 38/100\n",
      "250/250 [==============================] - 0s 903us/step - loss: 0.3454 - accuracy: 0.8583\n",
      "Epoch 39/100\n",
      "250/250 [==============================] - 0s 798us/step - loss: 0.3457 - accuracy: 0.8577\n",
      "Epoch 40/100\n",
      "250/250 [==============================] - 0s 1ms/step - loss: 0.3450 - accuracy: 0.8586\n",
      "Epoch 41/100\n",
      "250/250 [==============================] - 0s 823us/step - loss: 0.3447 - accuracy: 0.8587\n",
      "Epoch 42/100\n",
      "250/250 [==============================] - 0s 913us/step - loss: 0.3438 - accuracy: 0.8580\n",
      "Epoch 43/100\n",
      "250/250 [==============================] - 0s 725us/step - loss: 0.3437 - accuracy: 0.8566\n",
      "Epoch 44/100\n",
      "250/250 [==============================] - 0s 1ms/step - loss: 0.3435 - accuracy: 0.8584\n",
      "Epoch 45/100\n",
      "250/250 [==============================] - 0s 739us/step - loss: 0.3432 - accuracy: 0.8600\n",
      "Epoch 46/100\n",
      "250/250 [==============================] - 0s 671us/step - loss: 0.3429 - accuracy: 0.8586\n",
      "Epoch 47/100\n",
      "250/250 [==============================] - 0s 1ms/step - loss: 0.3429 - accuracy: 0.8606\n",
      "Epoch 48/100\n",
      "250/250 [==============================] - 0s 703us/step - loss: 0.3424 - accuracy: 0.8584\n",
      "Epoch 49/100\n",
      "250/250 [==============================] - 0s 1ms/step - loss: 0.3424 - accuracy: 0.8593\n",
      "Epoch 50/100\n",
      "250/250 [==============================] - 0s 780us/step - loss: 0.3418 - accuracy: 0.8601\n",
      "Epoch 51/100\n",
      "250/250 [==============================] - 0s 890us/step - loss: 0.3417 - accuracy: 0.8602\n",
      "Epoch 52/100\n",
      "250/250 [==============================] - 0s 771us/step - loss: 0.3417 - accuracy: 0.8605\n",
      "Epoch 53/100\n",
      "250/250 [==============================] - 0s 886us/step - loss: 0.3415 - accuracy: 0.8594\n",
      "Epoch 54/100\n",
      "250/250 [==============================] - 0s 813us/step - loss: 0.3411 - accuracy: 0.8597\n",
      "Epoch 55/100\n",
      "250/250 [==============================] - 0s 747us/step - loss: 0.3409 - accuracy: 0.8602\n",
      "Epoch 56/100\n",
      "250/250 [==============================] - 0s 856us/step - loss: 0.3411 - accuracy: 0.8596\n",
      "Epoch 57/100\n",
      "250/250 [==============================] - 0s 924us/step - loss: 0.3411 - accuracy: 0.8624\n",
      "Epoch 58/100\n",
      "250/250 [==============================] - 0s 829us/step - loss: 0.3411 - accuracy: 0.8610\n",
      "Epoch 59/100\n",
      "250/250 [==============================] - 0s 777us/step - loss: 0.3408 - accuracy: 0.8606\n",
      "Epoch 60/100\n",
      "250/250 [==============================] - 0s 1ms/step - loss: 0.3407 - accuracy: 0.8608\n",
      "Epoch 61/100\n",
      "250/250 [==============================] - 0s 1ms/step - loss: 0.3404 - accuracy: 0.8612\n",
      "Epoch 62/100\n",
      "250/250 [==============================] - 0s 1ms/step - loss: 0.3404 - accuracy: 0.8601\n",
      "Epoch 63/100\n",
      "250/250 [==============================] - 0s 905us/step - loss: 0.3402 - accuracy: 0.8626\n",
      "Epoch 64/100\n",
      "250/250 [==============================] - 0s 876us/step - loss: 0.3406 - accuracy: 0.8599\n",
      "Epoch 65/100\n",
      "250/250 [==============================] - 0s 1ms/step - loss: 0.3401 - accuracy: 0.8605\n",
      "Epoch 66/100\n",
      "250/250 [==============================] - 0s 831us/step - loss: 0.3399 - accuracy: 0.8612\n",
      "Epoch 67/100\n",
      "250/250 [==============================] - 0s 1ms/step - loss: 0.3403 - accuracy: 0.8602\n",
      "Epoch 68/100\n",
      "250/250 [==============================] - 0s 995us/step - loss: 0.3394 - accuracy: 0.8631\n",
      "Epoch 69/100\n",
      "250/250 [==============================] - 0s 822us/step - loss: 0.3396 - accuracy: 0.8612\n",
      "Epoch 70/100\n",
      "250/250 [==============================] - 0s 1ms/step - loss: 0.3398 - accuracy: 0.8618\n",
      "Epoch 71/100\n",
      "250/250 [==============================] - 0s 976us/step - loss: 0.3398 - accuracy: 0.8604\n",
      "Epoch 72/100\n",
      "250/250 [==============================] - 0s 979us/step - loss: 0.3392 - accuracy: 0.8602\n",
      "Epoch 73/100\n",
      "250/250 [==============================] - 0s 884us/step - loss: 0.3392 - accuracy: 0.8629\n",
      "Epoch 74/100\n",
      "250/250 [==============================] - 0s 899us/step - loss: 0.3395 - accuracy: 0.8626\n",
      "Epoch 75/100\n",
      "250/250 [==============================] - 0s 812us/step - loss: 0.3396 - accuracy: 0.8621\n",
      "Epoch 76/100\n",
      "250/250 [==============================] - 0s 978us/step - loss: 0.3392 - accuracy: 0.8614\n",
      "Epoch 77/100\n",
      "250/250 [==============================] - 0s 772us/step - loss: 0.3392 - accuracy: 0.8622\n",
      "Epoch 78/100\n",
      "250/250 [==============================] - 0s 1ms/step - loss: 0.3393 - accuracy: 0.8615\n",
      "Epoch 79/100\n",
      "250/250 [==============================] - 0s 813us/step - loss: 0.3392 - accuracy: 0.8612\n",
      "Epoch 80/100\n",
      "250/250 [==============================] - 0s 1ms/step - loss: 0.3391 - accuracy: 0.8630\n",
      "Epoch 81/100\n",
      "250/250 [==============================] - 0s 896us/step - loss: 0.3391 - accuracy: 0.8615\n",
      "Epoch 82/100\n",
      "250/250 [==============================] - 0s 760us/step - loss: 0.3391 - accuracy: 0.8608\n",
      "Epoch 83/100\n",
      "250/250 [==============================] - 0s 820us/step - loss: 0.3386 - accuracy: 0.8615\n",
      "Epoch 84/100\n",
      "250/250 [==============================] - 0s 885us/step - loss: 0.3393 - accuracy: 0.8624\n",
      "Epoch 85/100\n",
      "250/250 [==============================] - 0s 693us/step - loss: 0.3386 - accuracy: 0.8612\n",
      "Epoch 86/100\n",
      "250/250 [==============================] - 0s 703us/step - loss: 0.3389 - accuracy: 0.8630\n",
      "Epoch 87/100\n",
      "250/250 [==============================] - 0s 655us/step - loss: 0.3385 - accuracy: 0.8630\n",
      "Epoch 88/100\n",
      "250/250 [==============================] - 0s 1ms/step - loss: 0.3386 - accuracy: 0.8610\n",
      "Epoch 89/100\n",
      "250/250 [==============================] - 0s 824us/step - loss: 0.3389 - accuracy: 0.8624\n",
      "Epoch 90/100\n",
      "250/250 [==============================] - 0s 1ms/step - loss: 0.3383 - accuracy: 0.8629\n",
      "Epoch 91/100\n",
      "250/250 [==============================] - 0s 905us/step - loss: 0.3385 - accuracy: 0.8636\n",
      "Epoch 92/100\n",
      "250/250 [==============================] - 0s 1ms/step - loss: 0.3383 - accuracy: 0.8626\n",
      "Epoch 93/100\n",
      "250/250 [==============================] - 0s 811us/step - loss: 0.3381 - accuracy: 0.8635\n",
      "Epoch 94/100\n",
      "250/250 [==============================] - 0s 761us/step - loss: 0.3386 - accuracy: 0.8627\n",
      "Epoch 95/100\n",
      "250/250 [==============================] - 0s 738us/step - loss: 0.3381 - accuracy: 0.8625\n",
      "Epoch 96/100\n",
      "250/250 [==============================] - 0s 767us/step - loss: 0.3379 - accuracy: 0.8627\n",
      "Epoch 97/100\n",
      "250/250 [==============================] - 0s 740us/step - loss: 0.3380 - accuracy: 0.8631\n",
      "Epoch 98/100\n",
      "250/250 [==============================] - 0s 775us/step - loss: 0.3377 - accuracy: 0.8635\n",
      "Epoch 99/100\n",
      "250/250 [==============================] - 0s 1ms/step - loss: 0.3375 - accuracy: 0.8641\n",
      "Epoch 100/100\n",
      "250/250 [==============================] - 0s 717us/step - loss: 0.3376 - accuracy: 0.8654\n"
     ]
    },
    {
     "data": {
      "text/plain": [
       "<tensorflow.python.keras.callbacks.History at 0x7f000b79de50>"
      ]
     },
     "execution_count": 31,
     "metadata": {},
     "output_type": "execute_result"
    }
   ],
   "source": [
    "#Train the ANN\n",
    "ann.fit(X_train, y_train, batch_size = 32, epochs = 100)"
   ]
  },
  {
   "cell_type": "markdown",
   "metadata": {},
   "source": [
    "#### Making predictions and evaluating the model"
   ]
  },
  {
   "cell_type": "code",
   "execution_count": 33,
   "metadata": {},
   "outputs": [
    {
     "name": "stdout",
     "output_type": "stream",
     "text": [
      "[[False]]\n"
     ]
    }
   ],
   "source": [
    "# Q: is the customer going to leave the bank?\n",
    "# make prediction given the following info: geo=france, credit score=600, \n",
    "# gender=male, age = 40, tenure=3, bal=60 000, products=2, credit card=yes, customer active=yes, salary=50 000\n",
    "\n",
    "## any input to the predict method must be a 2d array (double square brackets)\n",
    "#always scale data before passing to predict\n",
    "#for scaling we dont need fit_transform because it will cause information leakage, its only applied during training\n",
    "\n",
    "print(ann.predict(sc.transform([[1, 0, 0, 600, 1, 40, 3, 60000, 2, 1, 1, 50000]])) > 0.5)"
   ]
  },
  {
   "cell_type": "markdown",
   "metadata": {},
   "source": [
    "##### Predict the test results"
   ]
  },
  {
   "cell_type": "code",
   "execution_count": 35,
   "metadata": {},
   "outputs": [
    {
     "name": "stdout",
     "output_type": "stream",
     "text": [
      "[[0 0]\n",
      " [0 1]\n",
      " [0 0]\n",
      " ...\n",
      " [0 0]\n",
      " [0 0]\n",
      " [0 0]]\n"
     ]
    }
   ],
   "source": [
    "#Predicting the test results\n",
    "\n",
    "y_pred = ann.predict(X_test)\n",
    "y_pred = (y_pred > 0.5)\n",
    "print(np.concatenate((y_pred.reshape(len(y_pred),1), y_test.reshape(len(y_test),1)),1))"
   ]
  },
  {
   "cell_type": "markdown",
   "metadata": {},
   "source": [
    "#### Making the confusion matrix"
   ]
  },
  {
   "cell_type": "code",
   "execution_count": 37,
   "metadata": {},
   "outputs": [
    {
     "name": "stdout",
     "output_type": "stream",
     "text": [
      "[[1521   74]\n",
      " [ 197  208]]\n"
     ]
    },
    {
     "data": {
      "text/plain": [
       "0.8645"
      ]
     },
     "execution_count": 37,
     "metadata": {},
     "output_type": "execute_result"
    }
   ],
   "source": [
    "from sklearn.metrics import confusion_matrix, accuracy_score\n",
    "\n",
    "cm = confusion_matrix(y_test, y_pred)\n",
    "print(cm)\n",
    "accuracy_score(y_test,y_pred)"
   ]
  },
  {
   "cell_type": "code",
   "execution_count": null,
   "metadata": {},
   "outputs": [],
   "source": []
  }
 ],
 "metadata": {
  "kernelspec": {
   "display_name": "Python 3",
   "language": "python",
   "name": "python3"
  },
  "language_info": {
   "codemirror_mode": {
    "name": "ipython",
    "version": 3
   },
   "file_extension": ".py",
   "mimetype": "text/x-python",
   "name": "python",
   "nbconvert_exporter": "python",
   "pygments_lexer": "ipython3",
   "version": "3.8.5"
  }
 },
 "nbformat": 4,
 "nbformat_minor": 4
}
